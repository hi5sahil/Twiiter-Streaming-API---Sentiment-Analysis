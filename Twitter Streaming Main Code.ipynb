{
 "cells": [
  {
   "cell_type": "code",
   "execution_count": 1,
   "metadata": {
    "collapsed": true
   },
   "outputs": [],
   "source": [
    "# Importing Library and setting environment path\n",
    "import os\n",
    "import sys\n",
    "# set the path \n",
    "\n",
    "sparkPath = \"C:/spark-2.0.2-bin-hadoop2.7\"\n",
    "\n",
    "os.environ['SPARK_HOME'] = sparkPath\n",
    "sys.path.append(sparkPath + '/bin')\n",
    "sys.path.append(sparkPath + '/python')\n",
    "sys.path.append(sparkPath + '/python/pyspark')\n",
    "sys.path.append(sparkPath + '/python/pyspark/lib')\n",
    "sys.path.append(sparkPath + '/python/pyspark/lib/pyspark.zip')\n",
    "sys.path.append(sparkPath + '/python/pyspark/lib/py4j-0.10.3-src.zip')\n",
    "sys.path.append(\"C:/Program Files (x86)/Java/jre1.8.0_111/bin\")"
   ]
  },
  {
   "cell_type": "code",
   "execution_count": 2,
   "metadata": {
    "collapsed": false
   },
   "outputs": [],
   "source": [
    "import pyspark"
   ]
  },
  {
   "cell_type": "code",
   "execution_count": 3,
   "metadata": {
    "collapsed": false
   },
   "outputs": [],
   "source": [
    "from pyspark import SparkContext, SQLContext\n",
    "from pyspark.streaming import StreamingContext"
   ]
  },
  {
   "cell_type": "code",
   "execution_count": 4,
   "metadata": {
    "collapsed": false
   },
   "outputs": [],
   "source": [
    "#!pip install vaderSentiment"
   ]
  },
  {
   "cell_type": "code",
   "execution_count": 5,
   "metadata": {
    "collapsed": false
   },
   "outputs": [],
   "source": [
    "import pandas as pd\n",
    "import sys\n",
    "nb_stdout = sys.stdout\n",
    "#from vaderSentiment.vaderSentiment import sentiment as vaderSentiment\n",
    "from vaderSentiment.vaderSentiment import SentimentIntensityAnalyzer\n",
    "import time\n",
    "import datetime\n",
    "sys.stdout = nb_stdout"
   ]
  },
  {
   "cell_type": "code",
   "execution_count": 6,
   "metadata": {
    "collapsed": true
   },
   "outputs": [],
   "source": [
    "def senti(para):\n",
    "    lines_list = tokenize.sent_tokenize(para)\n",
    "    \n",
    "    negList = []\n",
    "    neuList = []\n",
    "    posList = []\n",
    "    compoundList = []\n",
    "    for lines in lines_list:\n",
    "        negs = vaderSentiment(lines)['neg']\n",
    "        negList.append(negs)\n",
    "        neu = vaderSentiment(lines)['neu']\n",
    "        neuList.append(neu)\n",
    "        poss = vaderSentiment(lines)['pos']\n",
    "        posList.append(poss)\n",
    "        comps = vaderSentiment(lines)['compound']\n",
    "        compoundList.append(comps)\n",
    "        \n",
    "    sentiList = [np.array(negList).mean(),np.array(neuList).mean(),np.array(posList).mean(),np.array(compoundList).mean()]\n",
    "    return sentiList"
   ]
  },
  {
   "cell_type": "code",
   "execution_count": 7,
   "metadata": {
    "collapsed": true
   },
   "outputs": [],
   "source": [
    "analyzer = SentimentIntensityAnalyzer()"
   ]
  },
  {
   "cell_type": "markdown",
   "metadata": {},
   "source": [
    "### First Part"
   ]
  },
  {
   "cell_type": "code",
   "execution_count": 8,
   "metadata": {
    "collapsed": false
   },
   "outputs": [],
   "source": [
    "#sc.stop()"
   ]
  },
  {
   "cell_type": "code",
   "execution_count": 9,
   "metadata": {
    "collapsed": true
   },
   "outputs": [],
   "source": [
    "sc = SparkContext()\n",
    "ssc = StreamingContext(sc, 20)\n",
    "lines = ssc.socketTextStream(\"192.168.1.141\", 5555)"
   ]
  },
  {
   "cell_type": "code",
   "execution_count": 10,
   "metadata": {
    "collapsed": false
   },
   "outputs": [],
   "source": [
    "accum1 = sc.accumulator(0)\n",
    "def f(x):\n",
    "    global accum1\n",
    "    accum1 += x\n",
    "    \n",
    "accum2 = sc.accumulator(0)\n",
    "def g(x):\n",
    "    global accum2\n",
    "    accum2 += x\n",
    "    \n",
    "accum3 = sc.accumulator(0)\n",
    "def h(x):\n",
    "    global accum3\n",
    "    accum3 += x\n",
    "    \n",
    "accum4 = sc.accumulator(0)\n",
    "def i(x):\n",
    "    global accum4\n",
    "    accum4 += x\n",
    "    \n",
    "accum5 = sc.accumulator(0)\n",
    "def j(x):\n",
    "    global accum5\n",
    "    accum5 += x\n",
    "    \n",
    "accum6 = sc.accumulator(0)\n",
    "def k(x):\n",
    "    global accum6\n",
    "    accum6 += x    \n",
    "    \n",
    "accum7 = sc.accumulator(0)\n",
    "def l(x):\n",
    "    global accum7\n",
    "    accum7 += x  "
   ]
  },
  {
   "cell_type": "code",
   "execution_count": 11,
   "metadata": {
    "collapsed": false
   },
   "outputs": [],
   "source": [
    "#lines.pprint()\n",
    "#.flatMapValues(lambda lines: lines.split('.'))\n",
    "#lines.flatMap( lambda text: text.split( \" \" ) ).filter( lambda word: word.lower().startswith(\"#\") ).pprint()\n",
    "#lines.flatMap( lambda text: text.split( \" \" ) ).filter( lambda word: word.lower().startswith(\"#\") ).map(lambda word: HashTags.append(word))\n",
    "#lines.map( lambda text: (text, analyzer.polarity_scores(text))).pprint()\n",
    "\n",
    "from collections import namedtuple\n",
    "fields = (\"tag\", \"count\" )\n",
    "Tweet = namedtuple( 'Tweet', fields )\n",
    "\n",
    "lines.flatMap( lambda text: text.split( \" \" ) ).filter( lambda word: word.lower().startswith(\"#\")).pprint()\n",
    "\n",
    "( lines.flatMap( lambda text: text.split( \" \" ) )\n",
    "  .filter( lambda word: word.lower().startswith(\"messi\") )\n",
    "  .map( lambda word: ( word.lower(), 1 ) )\n",
    "  .reduceByKey( lambda a, b: a + b )\n",
    "  .map( lambda rec: rec[1] )\n",
    "  #.map( lambda rec: Tweet( rec[0], rec[1] ) )\n",
    "  .foreachRDD(lambda rdd: rdd.foreach(f) ))\n",
    "\n",
    "( lines.flatMap( lambda text: text.split( \" \" ) )\n",
    "  .filter( lambda word: word.lower().startswith((\"cr7\",\"ronaldo\")) )\n",
    "  .map( lambda word: ( word.lower(), 1 ) )\n",
    "  .reduceByKey( lambda a, b: a + b )\n",
    "  .map( lambda rec: rec[1] )\n",
    "  #.map( lambda rec: Tweet( rec[0], rec[1] ) )\n",
    "  .foreachRDD(lambda rdd: rdd.foreach(g) ))\n",
    "\n",
    "( lines.flatMap( lambda text: text.split( \" \" ) )\n",
    "  .filter( lambda word: word.lower().startswith(\"zlatan\") )\n",
    "  .map( lambda word: ( word.lower(), 1 ) )\n",
    "  .reduceByKey( lambda a, b: a + b )\n",
    "  .map( lambda rec: rec[1] )\n",
    "  #.map( lambda rec: Tweet( rec[0], rec[1] ) )\n",
    "  .foreachRDD(lambda rdd: rdd.foreach(h) ))\n",
    "\n",
    "( lines.flatMap( lambda text: text.split( \" \" ) )\n",
    "  .filter( lambda word: word.lower().startswith(\"griezmann\") )\n",
    "  .map( lambda word: ( word.lower(), 1 ) )\n",
    "  .reduceByKey( lambda a, b: a + b )\n",
    "  .map( lambda rec: rec[1] )\n",
    "  #.map( lambda rec: Tweet( rec[0], rec[1] ) )\n",
    "  .foreachRDD(lambda rdd: rdd.foreach(i) ))\n",
    "\n",
    "( lines.flatMap( lambda text: text.split( \" \" ) )\n",
    "  .filter( lambda word: word.lower().startswith(\"suarez\") )\n",
    "  .map( lambda word: ( word.lower(), 1 ) )\n",
    "  .reduceByKey( lambda a, b: a + b )\n",
    "  .map( lambda rec: rec[1] )\n",
    "  #.map( lambda rec: Tweet( rec[0], rec[1] ) )\n",
    "  .foreachRDD(lambda rdd: rdd.foreach(j) ))\n",
    "\n",
    "( lines.flatMap( lambda text: text.split( \" \" ) )\n",
    "  .filter( lambda word: word.lower().startswith(\"neymar\") )\n",
    "  .map( lambda word: ( word.lower(), 1 ) )\n",
    "  .reduceByKey( lambda a, b: a + b )\n",
    "  .map( lambda rec: rec[1] )\n",
    "  #.map( lambda rec: Tweet( rec[0], rec[1] ) )\n",
    "  .foreachRDD(lambda rdd: rdd.foreach(k) ))\n",
    "\n",
    "( lines.flatMap( lambda text: text.split( \" \" ) )\n",
    "  .filter( lambda word: word.lower().startswith(\"bale\") )\n",
    "  .map( lambda word: ( word.lower(), 1 ) )\n",
    "  .reduceByKey( lambda a, b: a + b )\n",
    "  .map( lambda rec: rec[1] )\n",
    "  #.map( lambda rec: Tweet( rec[0], rec[1] ) )\n",
    "  .foreachRDD(lambda rdd: rdd.foreach(l) ))"
   ]
  },
  {
   "cell_type": "code",
   "execution_count": 12,
   "metadata": {
    "collapsed": false
   },
   "outputs": [],
   "source": [
    "#words = lines.flatMap(lambda line: line.split(\" \"))\n",
    "#pairs = words.map(lambda word: (word, 1))\n",
    "#wordCounts = pairs.reduceByKey(lambda x, y: x + y)\n",
    "#wordCounts.pprint()"
   ]
  },
  {
   "cell_type": "code",
   "execution_count": 13,
   "metadata": {
    "collapsed": false
   },
   "outputs": [
    {
     "name": "stdout",
     "output_type": "stream",
     "text": [
      "-------------------------------------------\n",
      "Time: 2017-01-12 04:42:20\n",
      "-------------------------------------------\n",
      "\n",
      "-------------------------------------------\n",
      "Time: 2017-01-12 04:42:40\n",
      "-------------------------------------------\n",
      "#Video\n",
      "#SportsCenter\n",
      "#Messi!\n",
      "#Messi,\n",
      "#FCBAthletic\n",
      "#Messi\n",
      "#PBB4thLuckySunRT\n",
      "#TeamDaDa\n",
      "\n"
     ]
    }
   ],
   "source": [
    "import time\n",
    "ssc.start()\n",
    "time.sleep(60)\n",
    "ssc.stop(False)"
   ]
  },
  {
   "cell_type": "code",
   "execution_count": 14,
   "metadata": {
    "collapsed": false
   },
   "outputs": [
    {
     "name": "stdout",
     "output_type": "stream",
     "text": [
      "   index    hashtag  count\n",
      "0      1    ronaldo      0\n",
      "1      3  griezmann      0\n",
      "2      4     suarez      0\n",
      "3      5     neymar      0\n",
      "4      6       bale      0\n",
      "5      2     zlatan      1\n",
      "6      0      messi     37\n"
     ]
    },
    {
     "data": {
      "text/html": [
       "<iframe id=\"igraph\" scrolling=\"no\" style=\"border:none;\" seamless=\"seamless\" src=\"https://plot.ly/~sahil.g0891/10.embed\" height=\"525px\" width=\"100%\"></iframe>"
      ],
      "text/plain": [
       "<plotly.tools.PlotlyDisplay object>"
      ]
     },
     "execution_count": 14,
     "metadata": {},
     "output_type": "execute_result"
    }
   ],
   "source": [
    "import plotly.plotly as py\n",
    "import plotly.graph_objs as go\n",
    "\n",
    "s1 = pd.Series(['messi', 'ronaldo', 'zlatan', 'griezmann', 'suarez', 'neymar', 'bale'], name='hashtag')\n",
    "s2 = pd.Series([accum1.value,accum2.value,accum3.value,accum4.value,accum5.value,accum6.value,accum7.value], name='count')\n",
    "hashtagCountDf = pd.concat([s1, s2], axis=1).sort_values(by=['count']).reset_index()\n",
    "print hashtagCountDf\n",
    "\n",
    "layout = go.Layout(title='Player Popularity Chart',)\n",
    "\n",
    "\n",
    "data = [go.Bar(\n",
    "            y=hashtagCountDf['hashtag'],\n",
    "            x=hashtagCountDf['count'],\n",
    "            orientation = 'h'\n",
    "    )]\n",
    "\n",
    "py.iplot(data, layout=layout, filename='basic-bar')"
   ]
  },
  {
   "cell_type": "markdown",
   "metadata": {},
   "source": [
    "### Second Part"
   ]
  },
  {
   "cell_type": "code",
   "execution_count": 15,
   "metadata": {
    "collapsed": false
   },
   "outputs": [],
   "source": [
    "#!pip install plotly\n",
    "#!pip install twitter"
   ]
  },
  {
   "cell_type": "code",
   "execution_count": 16,
   "metadata": {
    "collapsed": false
   },
   "outputs": [],
   "source": [
    "import numpy as np \n",
    "import plotly\n",
    "import plotly.plotly as py  \n",
    "import plotly.tools as tls   \n",
    "import plotly.graph_objs as go"
   ]
  },
  {
   "cell_type": "code",
   "execution_count": 17,
   "metadata": {
    "collapsed": false
   },
   "outputs": [],
   "source": [
    "plotly.tools.set_credentials_file(username='sahil.g0891', api_key='N3Un7S0Br8VJqlR09OLS')"
   ]
  },
  {
   "cell_type": "code",
   "execution_count": 18,
   "metadata": {
    "collapsed": false
   },
   "outputs": [
    {
     "name": "stdout",
     "output_type": "stream",
     "text": [
      "{u'username': u'sahil.g0891', u'stream_ids': [], u'api_key': u'N3Un7S0Br8VJqlR09OLS', u'proxy_username': u'', u'proxy_password': u''}\n"
     ]
    }
   ],
   "source": [
    "stream_ids = tls.get_credentials_file()\n",
    "print (stream_ids)"
   ]
  },
  {
   "cell_type": "code",
   "execution_count": 19,
   "metadata": {
    "collapsed": true
   },
   "outputs": [],
   "source": [
    "# Get stream id from stream id list \n",
    "stream_id1 = \"clmeuz9ksx\"\n",
    "\n",
    "# Make instance of stream id object \n",
    "stream_1 = go.Stream(\n",
    "    token=stream_id1,  # link stream id to 'token' key\n",
    "    maxpoints=80      # keep a max of 80 pts on screen\n",
    ")"
   ]
  },
  {
   "cell_type": "code",
   "execution_count": 20,
   "metadata": {
    "collapsed": true
   },
   "outputs": [],
   "source": [
    "# Get stream id from stream id list \n",
    "stream_id2 = \"bcxloitutf\"\n",
    "\n",
    "# Make instance of stream id object \n",
    "stream_2 = go.Stream(\n",
    "    token=stream_id2,  # link stream id to 'token' key\n",
    "    maxpoints=80      # keep a max of 80 pts on screen\n",
    ")"
   ]
  },
  {
   "cell_type": "code",
   "execution_count": 21,
   "metadata": {
    "collapsed": true
   },
   "outputs": [],
   "source": [
    "# Initialize trace of streaming plot by embedding the unique stream_id\n",
    "trace1 = go.Scatter(\n",
    "    x=[],\n",
    "    y=[],\n",
    "    mode='lines+markers',\n",
    "    stream=stream_1         # (!) embed stream id, 1 per trace\n",
    ")\n",
    "\n",
    "data1 = go.Data([trace1])"
   ]
  },
  {
   "cell_type": "code",
   "execution_count": 22,
   "metadata": {
    "collapsed": false,
    "scrolled": false
   },
   "outputs": [
    {
     "data": {
      "text/html": [
       "<iframe id=\"igraph\" scrolling=\"no\" style=\"border:none;\" seamless=\"seamless\" src=\"https://plot.ly/~sahil.g0891/12.embed\" height=\"525px\" width=\"100%\"></iframe>"
      ],
      "text/plain": [
       "<plotly.tools.PlotlyDisplay object>"
      ]
     },
     "execution_count": 22,
     "metadata": {},
     "output_type": "execute_result"
    }
   ],
   "source": [
    "trace1 = go.Scatter(x=[], y=[], stream=stream_1, name='Messi')\n",
    "trace2 = go.Scatter(x=[], y=[], stream=stream_2, yaxis='y2', name='Ronaldo')\n",
    "\n",
    "data = [trace1, trace2]\n",
    "layout = go.Layout(\n",
    "    title='Messi vs Ronaldo on Twitter',\n",
    "    yaxis=dict(\n",
    "        title='Cumulative Sentiment for Messi',\n",
    "        autorange=True\n",
    "    ),\n",
    "    yaxis2=dict(\n",
    "        title='Cumulative Sentiment for Ronaldo',\n",
    "        autorange=True,\n",
    "        titlefont=dict(\n",
    "            color='rgb(148, 103, 189)'\n",
    "        ),\n",
    "        tickfont=dict(\n",
    "            color='rgb(148, 103, 189)'\n",
    "        ),\n",
    "        overlaying='y',\n",
    "        side='right'\n",
    "    )\n",
    ")\n",
    "\n",
    "fig = go.Figure(data=data, layout=layout)\n",
    "py.iplot(fig)"
   ]
  },
  {
   "cell_type": "code",
   "execution_count": 23,
   "metadata": {
    "collapsed": true
   },
   "outputs": [],
   "source": [
    "s_1 = py.Stream(stream_id=stream_id1)\n",
    "s_2 = py.Stream(stream_id=stream_id2)"
   ]
  },
  {
   "cell_type": "code",
   "execution_count": 24,
   "metadata": {
    "collapsed": false
   },
   "outputs": [
    {
     "ename": "KeyboardInterrupt",
     "evalue": "",
     "output_type": "error",
     "traceback": [
      "\u001b[0;31m---------------------------------------------------------------------------\u001b[0m",
      "\u001b[0;31mKeyboardInterrupt\u001b[0m                         Traceback (most recent call last)",
      "\u001b[0;32m<ipython-input-24-33b1295cf141>\u001b[0m in \u001b[0;36m<module>\u001b[0;34m()\u001b[0m\n\u001b[1;32m     24\u001b[0m     \u001b[0ms_1\u001b[0m\u001b[1;33m.\u001b[0m\u001b[0mwrite\u001b[0m\u001b[1;33m(\u001b[0m\u001b[0mdict\u001b[0m\u001b[1;33m(\u001b[0m\u001b[0mx\u001b[0m\u001b[1;33m=\u001b[0m\u001b[0mx\u001b[0m\u001b[1;33m,\u001b[0m\u001b[0my\u001b[0m\u001b[1;33m=\u001b[0m\u001b[0mlast1\u001b[0m\u001b[1;33m)\u001b[0m\u001b[1;33m)\u001b[0m\u001b[1;33m\u001b[0m\u001b[0m\n\u001b[1;32m     25\u001b[0m     \u001b[0ms_2\u001b[0m\u001b[1;33m.\u001b[0m\u001b[0mwrite\u001b[0m\u001b[1;33m(\u001b[0m\u001b[0mdict\u001b[0m\u001b[1;33m(\u001b[0m\u001b[0mx\u001b[0m\u001b[1;33m=\u001b[0m\u001b[0mx\u001b[0m\u001b[1;33m,\u001b[0m\u001b[0my\u001b[0m\u001b[1;33m=\u001b[0m\u001b[0mlast2\u001b[0m\u001b[1;33m)\u001b[0m\u001b[1;33m)\u001b[0m\u001b[1;33m\u001b[0m\u001b[0m\n\u001b[0;32m---> 26\u001b[0;31m     \u001b[0mtime\u001b[0m\u001b[1;33m.\u001b[0m\u001b[0msleep\u001b[0m\u001b[1;33m(\u001b[0m\u001b[1;36m1\u001b[0m\u001b[1;33m)\u001b[0m\u001b[1;33m\u001b[0m\u001b[0m\n\u001b[0m\u001b[1;32m     27\u001b[0m     \u001b[0mi\u001b[0m \u001b[1;33m+=\u001b[0m \u001b[1;36m1\u001b[0m\u001b[1;33m\u001b[0m\u001b[0m\n\u001b[1;32m     28\u001b[0m \u001b[0ms_1\u001b[0m\u001b[1;33m.\u001b[0m\u001b[0mclose\u001b[0m\u001b[1;33m(\u001b[0m\u001b[1;33m)\u001b[0m\u001b[1;33m\u001b[0m\u001b[0m\n",
      "\u001b[0;31mKeyboardInterrupt\u001b[0m: "
     ]
    }
   ],
   "source": [
    "s_1.open()\n",
    "s_2.open()\n",
    "\n",
    "import time\n",
    "import datetime\n",
    "import numpy as np\n",
    "\n",
    "k=10\n",
    "i=0\n",
    "\n",
    "while True:\n",
    "    x = datetime.datetime.now().strftime('%Y-%m-%d %H:%M:%S.%f')\n",
    "    \n",
    "    File1 = open('messi.txt', 'r')\n",
    "    last1 = File1.readlines()[-1]\n",
    "    File1.close()\n",
    "    #print last1\n",
    "\n",
    "    File2 = open('ronaldo.txt', 'r')\n",
    "    last2 = File2.readlines()[-1]\n",
    "    File2.close()\n",
    "    #print last2\n",
    "    \n",
    "    s_1.write(dict(x=x,y=last1))\n",
    "    s_2.write(dict(x=x,y=last2))\n",
    "    time.sleep(1)\n",
    "    i += 1\n",
    "s_1.close()\n",
    "s_2.close()"
   ]
  },
  {
   "cell_type": "markdown",
   "metadata": {},
   "source": [
    "### Third Part"
   ]
  },
  {
   "cell_type": "code",
   "execution_count": 25,
   "metadata": {
    "collapsed": false
   },
   "outputs": [],
   "source": [
    "import plotly.plotly as py  \n",
    "import plotly.tools as tls   \n",
    "import numpy as np\n",
    "import time\n",
    " \n",
    "from plotly.graph_objs import *\n",
    " \n",
    "import numpy as np  \n",
    "\n",
    "stream_id = 'clmeuz9ksx'   \n",
    "\n",
    "# We can generate a new stream id object\n",
    "stream = Stream(\n",
    "    token=stream_id,  \n",
    "    maxpoints=80\n",
    ")"
   ]
  },
  {
   "cell_type": "code",
   "execution_count": 26,
   "metadata": {
    "collapsed": false
   },
   "outputs": [],
   "source": [
    "#A simple bar chart object is generated\n",
    "\n",
    "trace1 = go.Bar(\n",
    "    y=['messi','ronaldo'],\n",
    "    x=np.array([0,0]),    \n",
    "    stream=stream, #we set the stream parameter to the stream id object created earlier \n",
    "    orientation = 'h'    \n",
    ")\n",
    "\n",
    "data = Data([trace1])\n",
    "layout = Layout(title='Comparison of Tweet Count for Messi vs Ronaldo')\n",
    "fig = Figure(data=data, layout=layout)"
   ]
  },
  {
   "cell_type": "code",
   "execution_count": 27,
   "metadata": {
    "collapsed": false
   },
   "outputs": [
    {
     "data": {
      "text/html": [
       "<iframe id=\"igraph\" scrolling=\"no\" style=\"border:none;\" seamless=\"seamless\" src=\"https://plot.ly/~sahil.g0891/7.embed\" height=\"525px\" width=\"100%\"></iframe>"
      ],
      "text/plain": [
       "<plotly.tools.PlotlyDisplay object>"
      ]
     },
     "execution_count": 27,
     "metadata": {},
     "output_type": "execute_result"
    }
   ],
   "source": [
    "py.iplot(fig, filename='bar-chart')      #post this plot up onto the plotly servers"
   ]
  },
  {
   "cell_type": "code",
   "execution_count": 28,
   "metadata": {
    "collapsed": true
   },
   "outputs": [],
   "source": [
    "#Now a Stream object is created w/ the same stream_id as the stream id object\n",
    "\n",
    "s = py.Stream(stream_id)\n",
    "s.open()    "
   ]
  },
  {
   "cell_type": "code",
   "execution_count": 29,
   "metadata": {
    "collapsed": false
   },
   "outputs": [
    {
     "ename": "KeyboardInterrupt",
     "evalue": "",
     "output_type": "error",
     "traceback": [
      "\u001b[0;31m---------------------------------------------------------------------------\u001b[0m",
      "\u001b[0;31mKeyboardInterrupt\u001b[0m                         Traceback (most recent call last)",
      "\u001b[0;32m<ipython-input-29-77c1d79d4e10>\u001b[0m in \u001b[0;36m<module>\u001b[0;34m()\u001b[0m\n\u001b[1;32m     13\u001b[0m     \u001b[0ms\u001b[0m\u001b[1;33m.\u001b[0m\u001b[0mwrite\u001b[0m\u001b[1;33m(\u001b[0m\u001b[0mdict\u001b[0m\u001b[1;33m(\u001b[0m\u001b[0my\u001b[0m\u001b[1;33m=\u001b[0m\u001b[1;33m[\u001b[0m\u001b[1;34m'messi'\u001b[0m\u001b[1;33m,\u001b[0m\u001b[1;34m'ronaldo'\u001b[0m\u001b[1;33m]\u001b[0m\u001b[1;33m,\u001b[0m \u001b[0mx\u001b[0m\u001b[1;33m=\u001b[0m\u001b[1;33m[\u001b[0m\u001b[0mlast1\u001b[0m\u001b[1;33m,\u001b[0m \u001b[0mlast2\u001b[0m\u001b[1;33m]\u001b[0m\u001b[1;33m)\u001b[0m  \u001b[1;33m)\u001b[0m\u001b[1;33m\u001b[0m\u001b[0m\n\u001b[1;32m     14\u001b[0m \u001b[1;33m\u001b[0m\u001b[0m\n\u001b[0;32m---> 15\u001b[0;31m     \u001b[0mtime\u001b[0m\u001b[1;33m.\u001b[0m\u001b[0msleep\u001b[0m\u001b[1;33m(\u001b[0m\u001b[1;36m0.2\u001b[0m\u001b[1;33m)\u001b[0m        \u001b[1;31m#wait one second before plotting again\u001b[0m\u001b[1;33m\u001b[0m\u001b[0m\n\u001b[0m\u001b[1;32m     16\u001b[0m \u001b[1;33m\u001b[0m\u001b[0m\n\u001b[1;32m     17\u001b[0m \u001b[0ms\u001b[0m\u001b[1;33m.\u001b[0m\u001b[0mclose\u001b[0m\u001b[1;33m(\u001b[0m\u001b[1;33m)\u001b[0m\u001b[1;33m\u001b[0m\u001b[0m\n",
      "\u001b[0;31mKeyboardInterrupt\u001b[0m: "
     ]
    }
   ],
   "source": [
    "while True:               \n",
    "    \n",
    "    File1 = open('messi.txt', 'r')\n",
    "    last1 = File1.readlines()[-1]\n",
    "    File1.close()\n",
    "    #print last1\n",
    "\n",
    "    File2 = open('ronaldo.txt', 'r')\n",
    "    last2 = File2.readlines()[-1]\n",
    "    File2.close()\n",
    "    #print last2\n",
    "    \n",
    "    s.write(dict(y=['messi','ronaldo'], x=[last1, last2])  )\n",
    "\n",
    "    time.sleep(0.2)        #wait one second before plotting again\n",
    "    \n",
    "s.close()     "
   ]
  },
  {
   "cell_type": "code",
   "execution_count": null,
   "metadata": {
    "collapsed": true
   },
   "outputs": [],
   "source": []
  }
 ],
 "metadata": {
  "anaconda-cloud": {},
  "kernelspec": {
   "display_name": "Python [default]",
   "language": "python",
   "name": "python2"
  },
  "language_info": {
   "codemirror_mode": {
    "name": "ipython",
    "version": 2
   },
   "file_extension": ".py",
   "mimetype": "text/x-python",
   "name": "python",
   "nbconvert_exporter": "python",
   "pygments_lexer": "ipython2",
   "version": "2.7.12"
  }
 },
 "nbformat": 4,
 "nbformat_minor": 1
}
